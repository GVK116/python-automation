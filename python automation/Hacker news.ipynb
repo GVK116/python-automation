{
 "cells": [
  {
   "cell_type": "code",
   "execution_count": 1,
   "metadata": {
    "collapsed": true
   },
   "outputs": [],
   "source": [
    "import requests\n",
    "from bs4 import BeautifulSoup\n",
    "import smtplib\n",
    "from email.mime.multipart import MIMEMultipart\n",
    "from email.mime.text import MIMEText\n",
    "import datetime"
   ]
  },
  {
   "cell_type": "code",
   "execution_count": null,
   "outputs": [],
   "source": [
    "now = datetime.datetime.now()\n",
    "content = ''\n",
    "\n",
    "def extract_news(url):\n",
    "    print('Extrecting News')\n",
    "    cnt = ''\n",
    "    cnt = '<b> HN top Stories: </>'"
   ],
   "metadata": {
    "collapsed": false
   }
  },
  {
   "cell_type": "code",
   "execution_count": null,
   "outputs": [],
   "source": [],
   "metadata": {
    "collapsed": false
   }
  },
  {
   "cell_type": "code",
   "execution_count": null,
   "outputs": [],
   "source": [],
   "metadata": {
    "collapsed": false
   }
  },
  {
   "cell_type": "code",
   "execution_count": 12,
   "outputs": [
    {
     "name": "stdout",
     "output_type": "stream",
     "text": [
      "First question answer : \n",
      "(array([1, 5]),)\n",
      "Second question answer : \n",
      "(array([3, 4]),)\n",
      "1.20.3\n"
     ]
    }
   ],
   "source": [
    "import numpy as np\n",
    "\n",
    "# find the position of\n",
    "#   -- element in X where its values is more than its corresponding element in Y\n",
    "#   -- elements in X where its values is equals to its corresponding elements in Y\n",
    "x = np.array([4,5,1,7,2,9,3])\n",
    "y = np.array([6,2,3,7,2,5,4])\n",
    "\n",
    "print('First question answer : ',np.where(x>y),sep='\\n')\n",
    "\n",
    "print('Second question answer : ',np.where(x==y),sep='\\n')\n",
    "print(np.__version__)\n"
   ],
   "metadata": {
    "collapsed": false
   }
  },
  {
   "cell_type": "code",
   "execution_count": null,
   "outputs": [],
   "source": [],
   "metadata": {
    "collapsed": false
   }
  },
  {
   "cell_type": "code",
   "execution_count": null,
   "outputs": [],
   "source": [],
   "metadata": {
    "collapsed": false
   }
  }
 ],
 "metadata": {
  "kernelspec": {
   "display_name": "Python 3",
   "language": "python",
   "name": "python3"
  },
  "language_info": {
   "codemirror_mode": {
    "name": "ipython",
    "version": 2
   },
   "file_extension": ".py",
   "mimetype": "text/x-python",
   "name": "python",
   "nbconvert_exporter": "python",
   "pygments_lexer": "ipython2",
   "version": "2.7.6"
  }
 },
 "nbformat": 4,
 "nbformat_minor": 0
}
